{
 "cells": [
  {
   "cell_type": "markdown",
   "id": "caaa15d7-6a84-419f-bb44-ad5abfce20f5",
   "metadata": {},
   "source": [
    "# Data Science Tools and Ecosystem"
   ]
  },
  {
   "cell_type": "markdown",
   "id": "1431d039-fbe0-4da1-ab0a-4307fc96c9be",
   "metadata": {},
   "source": [
    "In this notebook, Data Science Tools and Ecosystem are summarized."
   ]
  },
  {
   "cell_type": "markdown",
   "id": "51d1b391-5bdc-4481-86e9-296af863c639",
   "metadata": {},
   "source": [
    "__Objectives:__\n",
    "* List of popular Data Science Languages\n",
    "* List of commonly used Data Science Libraries\n",
    "* Open source Data Science Tools\n",
    "* Arithmetic operations"
   ]
  },
  {
   "cell_type": "markdown",
   "id": "784ea1cf-34f6-49e9-a1a9-59df8295d1f5",
   "metadata": {},
   "source": [
    "Some of the popular languages that Data Scientists use are:\n",
    "1. Python\n",
    "2. R\n",
    "3. Java"
   ]
  },
  {
   "cell_type": "markdown",
   "id": "3e7c05e8-b928-412b-829e-4fcdc825e551",
   "metadata": {},
   "source": [
    "Some of the commonly used libraries used by Data Scientists include:\n",
    "1. Pandas\n",
    "2. NumPy\n",
    "3. TensorFlow"
   ]
  },
  {
   "cell_type": "markdown",
   "id": "7735257d-4093-474c-b899-5401abe5e395",
   "metadata": {},
   "source": [
    "| Data Science Tools |\n",
    "| ------------------ |\n",
    "| Jupyter Notebook |\n",
    "| JupyterLab |\n",
    "| RStudio |"
   ]
  },
  {
   "cell_type": "markdown",
   "id": "5455bbfb-0419-453b-9e10-3ad3a3650e06",
   "metadata": {},
   "source": [
    "### Below are a few examples of evaluating arithmetic expressions in Python"
   ]
  },
  {
   "cell_type": "code",
   "execution_count": 2,
   "id": "9f4615aa-5840-49ca-a805-fa2db0b770d1",
   "metadata": {},
   "outputs": [
    {
     "data": {
      "text/plain": [
       "17"
      ]
     },
     "execution_count": 2,
     "metadata": {},
     "output_type": "execute_result"
    }
   ],
   "source": [
    "# This a simple arithmetic expression to mutiply then add integers\n",
    "(3*4)+5"
   ]
  },
  {
   "cell_type": "code",
   "execution_count": 3,
   "id": "62778063-cac8-4e97-8076-8d0c875fe7bf",
   "metadata": {},
   "outputs": [
    {
     "data": {
      "text/plain": [
       "3.3333333333333335"
      ]
     },
     "execution_count": 3,
     "metadata": {},
     "output_type": "execute_result"
    }
   ],
   "source": [
    "# This will convert 200 minutes to hours by diving by 60\n",
    "200/60"
   ]
  },
  {
   "cell_type": "markdown",
   "id": "fb459b71-e6a9-4c82-91d9-becc055946e8",
   "metadata": {},
   "source": [
    "## Author\n",
    "G.D.E.T. Sandarenu"
   ]
  },
  {
   "cell_type": "code",
   "execution_count": null,
   "id": "faf316dd-e6ad-44d7-a10d-81f73d691f6a",
   "metadata": {},
   "outputs": [],
   "source": []
  }
 ],
 "metadata": {
  "kernelspec": {
   "display_name": "Python 3 (ipykernel)",
   "language": "python",
   "name": "python3"
  },
  "language_info": {
   "codemirror_mode": {
    "name": "ipython",
    "version": 3
   },
   "file_extension": ".py",
   "mimetype": "text/x-python",
   "name": "python",
   "nbconvert_exporter": "python",
   "pygments_lexer": "ipython3",
   "version": "3.11.7"
  }
 },
 "nbformat": 4,
 "nbformat_minor": 5
}
